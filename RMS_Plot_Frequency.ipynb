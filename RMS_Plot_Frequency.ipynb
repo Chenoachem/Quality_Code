{
 "cells": [
  {
   "cell_type": "code",
   "execution_count": 7,
   "metadata": {
    "collapsed": true
   },
   "outputs": [],
   "source": [
    "import os\n",
    "import numpy as np\n",
    "import astropy\n",
    "from astropy.io import fits\n",
    "from astropy.coordinates import SkyCoord  # High-level coordinates\n",
    "from astropy.coordinates import ICRS, Galactic, FK4, FK5  # Low-level frames\n",
    "from astropy.coordinates import Angle, Latitude, Longitude  # Angles\n",
    "import astropy.units as u\n",
    "from astropy import wcs\n",
    "import sys\n",
    "import os.path\n",
    "import csv\n",
    "import matplotlib.pyplot as plt\n",
    "%matplotlib inline"
   ]
  },
  {
   "cell_type": "code",
   "execution_count": 8,
   "metadata": {
    "collapsed": true
   },
   "outputs": [],
   "source": [
    "mycube=\"Cube_0013_Grouped/Orion_I_013_Continuum.fits\""
   ]
  },
  {
   "cell_type": "code",
   "execution_count": 9,
   "metadata": {
    "collapsed": false
   },
   "outputs": [],
   "source": [
    "datacube = fits.open(mycube)\n",
    "data = datacube[0].data\n",
    "header = datacube[0].header\n",
    "cube = data[:,:,:]"
   ]
  },
  {
   "cell_type": "code",
   "execution_count": 18,
   "metadata": {
    "collapsed": false
   },
   "outputs": [
    {
     "name": "stdout",
     "output_type": "stream",
     "text": [
      "100\n"
     ]
    }
   ],
   "source": [
    "number_list=[]\n",
    "\n",
    "for x in range(0, 100):\n",
    "    rms_number_x = np.nanstd(cube[:,x:x+1,400:700,400:700])\n",
    "    #print rms_number_x\n",
    "    number_list.append(rms_number_x)\n",
    "print len(number_list)"
   ]
  },
  {
   "cell_type": "code",
   "execution_count": 19,
   "metadata": {
    "collapsed": false
   },
   "outputs": [
    {
     "name": "stdout",
     "output_type": "stream",
     "text": [
      "100\n"
     ]
    }
   ],
   "source": [
    "rp = datacube[0].header['CRPIX3']\n",
    "rf = datacube[0].header['CRVAL3']\n",
    "df = datacube[0].header['CDELT3']\n",
    "nf = datacube[0].header['NAXIS3']\n",
    "xvals = rf + df*(np.arange(nf)-rp)\n",
    "xvals=xvals*10**-6\n",
    "#xvals=round(xvals),2)\n",
    "print len(xvals)"
   ]
  },
  {
   "cell_type": "code",
   "execution_count": 55,
   "metadata": {
    "collapsed": false
   },
   "outputs": [
    {
     "data": {
      "image/png": "[encoded data removed]",
      "text/plain": [
       "<matplotlib.figure.Figure at 0x7f603e6b7e10>"
      ]
     },
     "metadata": {},
     "output_type": "display_data"
    }
   ],
   "source": [
    "plt.plot(xvals,number_list, \"r-\")\n",
    "plt.title(\"RMS per slice\", fontsize=15)\n",
    "plt.xlabel(\"Frequency (MHz)\", fontsize=15)\n",
    "plt.ylabel(\"RMS (Jy beam$^{-1}$)\",fontsize=15)\n",
    "plt.xlim(99.3,100.4)\n",
    "plt.ylim(0.2,0.7)\n",
    "plt.yticks(size=15)\n",
    "plt.xticks(size=15)\n",
    "plt.tight_layout()\n",
    "plt.savefig(\"rms_cube_plotaddfreq.png\",pad_inches=0.5)"
   ]
  },
  {
   "cell_type": "code",
   "execution_count": null,
   "metadata": {
    "collapsed": true
   },
   "outputs": [],
   "source": []
  }
 ],
 "metadata": {
  "kernelspec": {
   "display_name": "Python 2",
   "language": "python",
   "name": "python2"
  },
  "language_info": {
   "codemirror_mode": {
    "name": "ipython",
    "version": 2
   },
   "file_extension": ".py",
   "mimetype": "text/x-python",
   "name": "python",
   "nbconvert_exporter": "python",
   "pygments_lexer": "ipython2",
   "version": "2.7.12"
  }
 },
 "nbformat": 4,
 "nbformat_minor": 0
}
