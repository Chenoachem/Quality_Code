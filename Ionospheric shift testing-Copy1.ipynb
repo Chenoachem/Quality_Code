{
 "cells": [
  {
   "cell_type": "code",
   "execution_count": 1,
   "metadata": {
    "collapsed": false
   },
   "outputs": [],
   "source": [
    "import numpy as np\n",
    "from scipy.stats import linregress\n",
    "import csv"
   ]
  },
  {
   "cell_type": "code",
   "execution_count": 2,
   "metadata": {
    "collapsed": false
   },
   "outputs": [
    {
     "name": "stdout",
     "output_type": "stream",
     "text": [
      "1090328576_temp.csv          \u001b[0m\u001b[01;35mDelta_Dec-Extreme.png\u001b[0m\r\n",
      "1090328576_temp_full.csv     \u001b[01;35mDelta_Dec.png\u001b[0m\r\n",
      "DelDec_DelRA_Plotcode.ipynb  \u001b[01;35mDelta_RA-Extreme.png\u001b[0m\r\n",
      "\u001b[01;35mDel_Dec-freq.png\u001b[0m             \u001b[01;35mDelta_RA.png\u001b[0m\r\n",
      "\u001b[01;35mDel_Dec-W2.png\u001b[0m               Ionospheric shift testing-Copy1.ipynb\r\n",
      "\u001b[01;35mDel_RA-freq.png\u001b[0m              Ionospheric shift testing.ipynb\r\n",
      "\u001b[01;35mDel_RA-W2.png\u001b[0m\r\n"
     ]
    }
   ],
   "source": [
    "ls"
   ]
  },
  {
   "cell_type": "code",
   "execution_count": 3,
   "metadata": {
    "collapsed": false
   },
   "outputs": [
    {
     "name": "stdout",
     "output_type": "stream",
     "text": [
      "/media/chenoachem/Galactic/New_Cube_Test/Ionosphere_Single_Correction_4000\n"
     ]
    }
   ],
   "source": [
    "cd '/media/chenoachem/Galactic/New_Cube_Test/Ionosphere_Single_Correction_4000/'"
   ]
  },
  {
   "cell_type": "code",
   "execution_count": 4,
   "metadata": {
    "collapsed": false
   },
   "outputs": [
    {
     "name": "stdout",
     "output_type": "stream",
     "text": [
      "1090328576_0_comp.csv   1090328576_18_comp.csv  1090328576_4_comp.csv\r\n",
      "1090328576_10_comp.csv  1090328576_19_comp.csv  1090328576_5_comp.csv\r\n",
      "1090328576_11_comp.csv  1090328576_1_comp.csv   1090328576_6_comp.csv\r\n",
      "1090328576_12_comp.csv  1090328576_20_comp.csv  1090328576_7_comp.csv\r\n",
      "1090328576_13_comp.csv  1090328576_21_comp.csv  1090328576_8_comp.csv\r\n",
      "1090328576_14_comp.csv  1090328576_22_comp.csv  1090328576_9_comp.csv\r\n",
      "1090328576_15_comp.csv  1090328576_23_comp.csv  shift_mean.py\r\n",
      "1090328576_16_comp.csv  1090328576_2_comp.csv\r\n",
      "1090328576_17_comp.csv  1090328576_3_comp.csv\r\n"
     ]
    }
   ],
   "source": [
    "ls"
   ]
  },
  {
   "cell_type": "code",
   "execution_count": 5,
   "metadata": {
    "collapsed": false
   },
   "outputs": [],
   "source": [
    "csv = np.genfromtxt ('1090328576_0_comp.csv', delimiter=\",\")"
   ]
  },
  {
   "cell_type": "code",
   "execution_count": 11,
   "metadata": {
    "collapsed": true
   },
   "outputs": [],
   "source": [
    "DelRA_arcmin = csv[:,0] *60"
   ]
  },
  {
   "cell_type": "code",
   "execution_count": 12,
   "metadata": {
    "collapsed": false
   },
   "outputs": [
    {
     "name": "stdout",
     "output_type": "stream",
     "text": [
      "[             nan   3.17714156e+00  -6.50868386e-01  -5.71496295e-01\n",
      "   1.76602979e+00  -1.05899083e-01  -1.05862717e+00  -5.15343667e-01\n",
      "   1.73994810e+00  -1.34996185e+00   2.23253153e+00  -7.38943597e-01\n",
      "  -4.24036322e-03  -5.17145588e-01  -3.53987522e-01   1.92875769e-01\n",
      "   1.41610427e+00  -3.13358596e-01  -1.93473449e-03   5.26786232e-01\n",
      "   8.57851538e-01  -2.68888230e-01  -5.74760110e-02  -5.16548452e-01\n",
      "   1.99835230e-01   3.42438311e-01  -4.27530281e-01   2.27106092e-01]\n"
     ]
    }
   ],
   "source": [
    "print DelRA_arcmin"
   ]
  },
  {
   "cell_type": "code",
   "execution_count": 13,
   "metadata": {
    "collapsed": false
   },
   "outputs": [],
   "source": [
    "DelDec_arcmin = csv[:,1]*60"
   ]
  },
  {
   "cell_type": "code",
   "execution_count": 14,
   "metadata": {
    "collapsed": false
   },
   "outputs": [
    {
     "name": "stdout",
     "output_type": "stream",
     "text": [
      "[        nan  0.74683825 -0.63227862 -0.55135243  0.03646545 -0.89478191\n",
      " -1.33850941 -1.22178492 -0.15143088 -1.25388548 -0.09250614 -0.60859534\n",
      " -0.64565463 -0.3830169  -0.73954054 -0.53617988 -0.72869016 -0.51342464\n",
      " -0.7010079  -1.20856937 -1.15587864 -0.38539966 -0.72277082 -0.79312262\n",
      " -1.05345715 -0.7293988  -0.96803306 -0.57163707]\n"
     ]
    }
   ],
   "source": [
    "print DelDec_arcmin"
   ]
  },
  {
   "cell_type": "code",
   "execution_count": 17,
   "metadata": {
    "collapsed": false
   },
   "outputs": [
    {
     "name": "stdout",
     "output_type": "stream",
     "text": [
      "0.193570317904\n"
     ]
    }
   ],
   "source": [
    "averageRA=np.nanmean(DelRA_arcmin)\n",
    "print averageRA"
   ]
  },
  {
   "cell_type": "code",
   "execution_count": 19,
   "metadata": {
    "collapsed": false
   },
   "outputs": [
    {
     "name": "stdout",
     "output_type": "stream",
     "text": [
      "1.036555898\n"
     ]
    }
   ],
   "source": [
    "stdevRA=np.nanstd(DelRA_arcmin)\n",
    "print stdevRA"
   ]
  },
  {
   "cell_type": "code",
   "execution_count": 20,
   "metadata": {
    "collapsed": false
   },
   "outputs": [
    {
     "name": "stdout",
     "output_type": "stream",
     "text": [
      "-0.659170491723\n"
     ]
    }
   ],
   "source": [
    "averageDec=np.nanmean(DelDec_arcmin)\n",
    "print averageDec"
   ]
  },
  {
   "cell_type": "code",
   "execution_count": 21,
   "metadata": {
    "collapsed": false
   },
   "outputs": [
    {
     "name": "stdout",
     "output_type": "stream",
     "text": [
      "0.44207517298\n"
     ]
    }
   ],
   "source": [
    "stdevDec=np.nanstd(DelDec_arcmin)\n",
    "print stdevDec"
   ]
  },
  {
   "cell_type": "code",
   "execution_count": null,
   "metadata": {
    "collapsed": true
   },
   "outputs": [],
   "source": []
  }
 ],
 "metadata": {
  "kernelspec": {
   "display_name": "Python 2",
   "language": "python",
   "name": "python2"
  },
  "language_info": {
   "codemirror_mode": {
    "name": "ipython",
    "version": 2
   },
   "file_extension": ".py",
   "mimetype": "text/x-python",
   "name": "python",
   "nbconvert_exporter": "python",
   "pygments_lexer": "ipython2",
   "version": "2.7.12"
  }
 },
 "nbformat": 4,
 "nbformat_minor": 0
}
